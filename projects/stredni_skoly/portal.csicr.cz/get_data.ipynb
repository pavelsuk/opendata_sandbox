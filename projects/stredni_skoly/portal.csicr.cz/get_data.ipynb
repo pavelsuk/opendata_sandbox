{
 "cells": [
  {
   "cell_type": "markdown",
   "metadata": {},
   "source": [
    "# Getting data via selenium\n",
    "\n",
    "## Prerequisities\n",
    "\n",
    "- [Install selenium](https://pypi.org/project/selenium/) 'pip install -U selenium' \n",
    "- [Install chromedriver from stable](https://googlechromelabs.github.io/chrome-for-testing/#stable)\n"
   ]
  },
  {
   "cell_type": "code",
   "execution_count": 19,
   "metadata": {},
   "outputs": [],
   "source": [
    "from selenium import webdriver # Install by conda install conda-forge::selenium\n",
    "from selenium.webdriver.chrome.options import Options # download from https://googlechromelabs.github.io/chrome-for-testing/#stable\n",
    "from selenium.webdriver.common.by import By\n",
    "from time import sleep"
   ]
  },
  {
   "cell_type": "code",
   "execution_count": 20,
   "metadata": {},
   "outputs": [
    {
     "name": "stdout",
     "output_type": "stream",
     "text": [
      "testing started\n"
     ]
    }
   ],
   "source": [
    "\n",
    "\n",
    "# Set options for not prompting DevTools information\n",
    "options = Options()\n",
    "options.add_experimental_option(\"excludeSwitches\", [\"enable-logging\"])\n",
    "\n",
    "print(\"testing started\")\n",
    "driver = webdriver.Chrome(options=options, executable_path=r'C:\\install\\dev\\selenium\\chromedriver-win64\\chromedriver-win64\\chromedriver.exe')\n",
    "URL = 'https://portal.csicr.cz/School/'\n",
    "school = '600008703'\n",
    "full_URL = URL + school\n",
    "driver.get(full_URL)"
   ]
  },
  {
   "cell_type": "code",
   "execution_count": 21,
   "metadata": {},
   "outputs": [
    {
     "name": "stdout",
     "output_type": "stream",
     "text": [
      "TEST 0: `title` test passed\n"
     ]
    }
   ],
   "source": [
    "# sleep(10)\n",
    "\n",
    "# Get page title\n",
    "title = driver.title\n",
    "\n",
    "# Test if title is correct\n",
    "assert \"škola\" in title\n",
    "print(\"TEST 0: `title` test passed\")\n",
    "\n"
   ]
  },
  {
   "cell_type": "code",
   "execution_count": 22,
   "metadata": {},
   "outputs": [],
   "source": [
    "driver.find_element(By.ID, \"ui-id-3\").click()"
   ]
  },
  {
   "cell_type": "code",
   "execution_count": 23,
   "metadata": {},
   "outputs": [],
   "source": [
    "\n",
    "\n",
    "# Close the driver\n",
    "driver.quit()"
   ]
  }
 ],
 "metadata": {
  "kernelspec": {
   "display_name": "py310_data",
   "language": "python",
   "name": "python3"
  },
  "language_info": {
   "codemirror_mode": {
    "name": "ipython",
    "version": 3
   },
   "file_extension": ".py",
   "mimetype": "text/x-python",
   "name": "python",
   "nbconvert_exporter": "python",
   "pygments_lexer": "ipython3",
   "version": "3.10.13"
  }
 },
 "nbformat": 4,
 "nbformat_minor": 2
}
