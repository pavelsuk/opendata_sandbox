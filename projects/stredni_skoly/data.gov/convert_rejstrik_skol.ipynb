{
 "cells": [
  {
   "cell_type": "markdown",
   "metadata": {},
   "source": [
    "# Converting the school registry from xml to csv\n",
    "\n",
    "## Sources\n",
    "\n",
    "- [gov.cz: Rejstřík škol a školských zařízení - celá ČR ](https://data.gov.cz/datov%C3%A1-sada?iri=https%3A%2F%2Fdata.gov.cz%2Fzdroj%2Fdatov%C3%A9-sady%2F00022985%2F63989c80e16fc31c77e23ab529c76b52)"
   ]
  },
  {
   "cell_type": "code",
   "execution_count": 9,
   "metadata": {},
   "outputs": [],
   "source": [
    "import pandas as pd\n"
   ]
  },
  {
   "cell_type": "code",
   "execution_count": null,
   "metadata": {},
   "outputs": [],
   "source": [
    "fname = 'vrejcelk.xml'\n",
    "df = pd.read_xml(fname, encoding='utf-8', xpath=\".//PravniSubjekt\", elems_only=True)\n",
    "df"
   ]
  },
  {
   "cell_type": "code",
   "execution_count": null,
   "metadata": {},
   "outputs": [],
   "source": [
    "import xml.etree.ElementTree as ET\n",
    "import pandas as pd\n",
    "\n",
    "fpath = 'Q:\\dev\\_projects\\github\\opendata_sandbox\\projects\\stredni_skoly\\data.gov\\\\'\n",
    "# fname = 'rejstrik_skol_test.xml'\n",
    "# fname = 'rejstrik_skol_err.xml'\n",
    "fname = 'vrejcelk.xml'\n",
    "# xml_data = open('rejstrik_skol_test.xml', 'r', encoding='UTF-8').read()  # Read file vrejcelk.xml\n",
    "xml_data = open(fpath + fname, 'r', encoding='UTF-8').read()\n",
    "root = ET.XML(xml_data)  # Parse XML\n",
    "root\n",
    "\n"
   ]
  },
  {
   "cell_type": "code",
   "execution_count": 12,
   "metadata": {},
   "outputs": [],
   "source": [
    "def parse_element(el, tags:set):\n",
    "\n",
    "    ret_lines = list()\n",
    "\n",
    "    if len(list(el)) == 0:\n",
    "        return None\n",
    "\n",
    "    local_vals = dict()\n",
    "    local_lines = list()\n",
    "\n",
    "    for child in list(el):\n",
    "        if len(list(child)) == 0:\n",
    "            if child.tag in tags:\n",
    "                local_vals[child.tag] = child.text\n",
    "                print(f'{child.tag} {child.text}')\n",
    "        else:\n",
    "            new_lines = parse_element(child, tags)\n",
    "            new_local_lines = list()\n",
    "            if new_lines:\n",
    "                for line in new_lines:\n",
    "                    if local_lines:\n",
    "                        for loc_line in local_lines:\n",
    "                            if set(line.keys()) == set(loc_line.keys()):\n",
    "                                # print(f'{child} {child.text}')\n",
    "                                if  line not in new_local_lines:\n",
    "                                    new_local_lines.append(line)\n",
    "                                if  loc_line not in new_local_lines:\n",
    "                                    new_local_lines.append(loc_line)\n",
    "                            else:\n",
    "                                new_local_lines.append(loc_line | line)\n",
    "                    else:\n",
    "                        new_local_lines.append(line)\n",
    "            # local_lines = new_local_lines.copy()\n",
    "                local_lines = new_local_lines\n",
    "\n",
    "    if local_lines:\n",
    "        for line in local_lines:\n",
    "            ret_lines.append(local_vals | line)\n",
    "    elif local_vals:\n",
    "        ret_lines.append( local_vals)\n",
    "    return ret_lines\n"
   ]
  },
  {
   "cell_type": "code",
   "execution_count": null,
   "metadata": {},
   "outputs": [],
   "source": [
    "tags_all = {\"RedIzo\", \"ICO\",\n",
    "            \"RedZkracenyNazev\", \"RedRUAINKod\", \"RedAdresa1\", \"RedAdresa2\", \"RedAdresa3\",\n",
    "                \"PravniForma\", \"DruhZrizovatele\", \"Okres\", \"ORP\",\n",
    "            \"ZrizICO\",\n",
    "            \"IZO\",\n",
    "            \"SkolaDruhTyp\",\n",
    "                \"IDMista\",\n",
    "                \"MistoDruhTyp\",\n",
    "                \"MistoRUAINKod\",\n",
    "                \"MistoAdresa1\",\n",
    "                \"MistoAdresa2\",\n",
    "                \"MistoAdresa3\"\n",
    "}\n",
    "\n",
    "tags_mvp = {\"RedIzo\", \"ICO\",\n",
    "            \"RedZkracenyNazev\", \"RedRUAINKod\", \"RedAdresa1\", \"RedAdresa2\", \"RedAdresa3\",\n",
    "                \"PravniForma\", \"DruhZrizovatele\", \"Okres\", \"ORP\"\n",
    "}\n",
    "\n",
    "tags_mid = {\"RedIzo\", \"ICO\",\n",
    "            \"RedZkracenyNazev\", \"RedRUAINKod\", \"RedAdresa1\", \"RedAdresa2\", \"RedAdresa3\",\n",
    "                \"PravniForma\", \"DruhZrizovatele\", \"Okres\", \"ORP\",\n",
    "            \"SkolaDruhTyp\",\n",
    "                \"IDMista\",\n",
    "                \"MistoDruhTyp\",\n",
    "                \"MistoRUAINKod\",\n",
    "                \"MistoAdresa1\",\n",
    "                \"MistoAdresa2\",\n",
    "                \"MistoAdresa3\"\n",
    "}\n",
    "\n",
    "tags = tags_mid\n",
    "\n",
    "\n",
    "# loop_inside = {\"SkolyZarizeni\"}\n",
    "\n",
    "\n",
    "\n",
    "data = []\n",
    "\n",
    "for child in root:\n",
    "    lines = parse_element(child, tags)\n",
    "    if lines:\n",
    "        for line in lines:\n",
    "            data.append(line)\n",
    "\n",
    "\n",
    "df = pd.DataFrame(data)  # Write in DF and transpose it\n",
    "df"
   ]
  },
  {
   "cell_type": "code",
   "execution_count": null,
   "metadata": {},
   "outputs": [],
   "source": [
    "df.head(10)"
   ]
  },
  {
   "cell_type": "code",
   "execution_count": null,
   "metadata": {},
   "outputs": [],
   "source": [
    "df[df['RedIzo'] == '600000206']"
   ]
  },
  {
   "cell_type": "code",
   "execution_count": 16,
   "metadata": {},
   "outputs": [],
   "source": [
    "df.to_csv('rejstrik_out.csv', index_label='ROWID_TMP')"
   ]
  }
 ],
 "metadata": {
  "kernelspec": {
   "display_name": "py310_data",
   "language": "python",
   "name": "python3"
  },
  "language_info": {
   "codemirror_mode": {
    "name": "ipython",
    "version": 3
   },
   "file_extension": ".py",
   "mimetype": "text/x-python",
   "name": "python",
   "nbconvert_exporter": "python",
   "pygments_lexer": "ipython3",
   "version": "3.10.13"
  }
 },
 "nbformat": 4,
 "nbformat_minor": 2
}
