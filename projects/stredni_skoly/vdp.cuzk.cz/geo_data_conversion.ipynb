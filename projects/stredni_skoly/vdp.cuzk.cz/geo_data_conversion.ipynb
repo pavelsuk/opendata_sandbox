{
 "cells": [
  {
   "cell_type": "markdown",
   "metadata": {},
   "source": [
    "## Converting geo locations\n",
    "\n",
    "### Prerequisities\n",
    "\n",
    "- [Install pyproj](https://pyproj4.github.io/pyproj/v2.6.0rel/installation.html): `conda install -c conda-forge pyproj`"
   ]
  },
  {
   "cell_type": "code",
   "execution_count": 25,
   "metadata": {},
   "outputs": [
    {
     "data": {
      "text/plain": [
       "(49.94734963253301, 14.03674520447697)"
      ]
     },
     "execution_count": 25,
     "metadata": {},
     "output_type": "execute_result"
    }
   ],
   "source": [
    "from pyproj import Transformer\n",
    "\n",
    "transformer = Transformer.from_crs(\"EPSG:5514\", \"EPSG:4326\" )\n",
    "x1, y1 = 772261.74,1054618.73\n",
    "    # Melo by mi to prevest na 49.2176350N, 17.7439375E\n",
    "    # bacha, musi se to davat zaporne, pokud se to bere z dat z VFR\n",
    "    # viz https://cuzk.gov.cz/ruian/Poskytovani-udaju-ISUI-RUIAN-VDP/Vymenny-format-RUIAN-(VFR)/FAQ-casto-kladene-otazky-k-VFR/10-Jaky-format-souradnic-je-ve-VFR-vyuzivan.asp\n",
    "\n",
    "\n",
    "transformer.transform(-x1, -y1)\n",
    "\n"
   ]
  }
 ],
 "metadata": {
  "kernelspec": {
   "display_name": "py310_data",
   "language": "python",
   "name": "python3"
  },
  "language_info": {
   "codemirror_mode": {
    "name": "ipython",
    "version": 3
   },
   "file_extension": ".py",
   "mimetype": "text/x-python",
   "name": "python",
   "nbconvert_exporter": "python",
   "pygments_lexer": "ipython3",
   "version": "3.10.13"
  }
 },
 "nbformat": 4,
 "nbformat_minor": 2
}
